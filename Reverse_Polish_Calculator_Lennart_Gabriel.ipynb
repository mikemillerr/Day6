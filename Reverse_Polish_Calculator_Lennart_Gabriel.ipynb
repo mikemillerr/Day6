{
 "cells": [
  {
   "cell_type": "code",
   "execution_count": 12,
   "metadata": {},
   "outputs": [
    {
     "name": "stdout",
     "output_type": "stream",
     "text": [
      "[5.0]\n"
     ]
    }
   ],
   "source": [
    "import operator\n",
    "main_list = [15, 7, 1, 1, '+', '-', '/', 3, '*', 2, 1, 1, '+', '+', '-'] # With instructions\n",
    "sub_list = []\n",
    "\n",
    "def operator_s(op):\n",
    "    return {\n",
    "        '+' : operator.add,\n",
    "        '-' : operator.sub,\n",
    "        '*' : operator.mul,\n",
    "        '/' : operator.truediv,\n",
    "        '%' : operator.mod,\n",
    "        '^' : operator.xor,\n",
    "        }[op]\n",
    "\n",
    "\n",
    "for i, sym in enumerate(main_list):\n",
    "    if str(sym).isdigit():\n",
    "        sub_list.append(sym)\n",
    "    else:\n",
    "        result = operator_s(sym)(sub_list[-2], sub_list[-1])\n",
    "        sub_list.pop()\n",
    "        sub_list.pop()\n",
    "        sub_list.append(result)\n",
    "print(sub_list)"
   ]
  },
  {
   "cell_type": "code",
   "execution_count": 8,
   "metadata": {},
   "outputs": [
    {
     "data": {
      "text/plain": [
       "<function _operator.add>"
      ]
     },
     "execution_count": 8,
     "metadata": {},
     "output_type": "execute_result"
    }
   ],
   "source": []
  },
  {
   "cell_type": "code",
   "execution_count": null,
   "metadata": {},
   "outputs": [],
   "source": []
  }
 ],
 "metadata": {
  "kernelspec": {
   "display_name": "Python [conda env:nf] *",
   "language": "python",
   "name": "conda-env-nf-py"
  },
  "language_info": {
   "codemirror_mode": {
    "name": "ipython",
    "version": 3
   },
   "file_extension": ".py",
   "mimetype": "text/x-python",
   "name": "python",
   "nbconvert_exporter": "python",
   "pygments_lexer": "ipython3",
   "version": "3.6.6"
  }
 },
 "nbformat": 4,
 "nbformat_minor": 2
}
